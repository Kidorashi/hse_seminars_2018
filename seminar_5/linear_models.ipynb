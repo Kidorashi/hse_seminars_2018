{
 "cells": [
  {
   "cell_type": "markdown",
   "metadata": {},
   "source": [
    "# Linear models"
   ]
  },
  {
   "cell_type": "markdown",
   "metadata": {},
   "source": [
    "Outline:\n",
    "\n",
    "1. Logistic Regression\n",
    "1. Multiclass classification\n",
    "2. SVM\n",
    "3. Kernels\n",
    "4. String Kernels\n",
    "\n",
    "Reading:\n",
    "\n",
    "1. Boshop. Pattern Recognition and Machine Learning. pp 178-220\n",
    "1. Sokolov  lectures on Machine Learning"
   ]
  },
  {
   "cell_type": "markdown",
   "metadata": {},
   "source": [
    "## Logistic regression \n",
    "\n",
    "Logistic Loss  \n",
    "$$ L(y,z) = \\log (1 + e^{-yz})$$\n",
    "\n",
    "Logloss: \n",
    "$$ L(y, p) = y \\log p + (1-y) \\log(1 - p) $$\n",
    "\n",
    "Desicion function\n",
    "$$ \\sigma(x) = \\frac 1 {1 + e^{-wx}}$$"
   ]
  },
  {
   "cell_type": "markdown",
   "metadata": {},
   "source": [
    "## Multiclass classification\n",
    "\n",
    "### Multinomial\n",
    "\n",
    "Probability if j class:  \n",
    "$$ softmax(x)_j = \\frac {e^{w_j x}} {\\sum_k e^{w_k x}}$$\n",
    "\n",
    "Loss - cross-entropy:\n",
    "$$ L(y, p) = - \\sum_k^K y_k \\log p_k $$\n",
    "\n",
    "<img src=\"images/multinomial.png\" style=\"height:300px\">\n",
    "\n",
    "### One-vs-rest\n",
    "\n",
    "Train K binary classifiers.  \n",
    "\n",
    "$$ a(x) = \\arg \\max_k b_k(x) $$\n",
    "\n",
    "<img src=\"images/ovr.png\" style=\"height:300px\">\n",
    "\n",
    "### One-vs-one\n",
    "\n",
    "Train $K(K-1)/2$ binary classifiers. \n",
    "\n",
    "$$ a(x) = \\arg \\max_k \\sum_{i, i \\neq k} b_{ik}(x) $$\n",
    "\n",
    "thick lines = one-vs-one  \n",
    "thin lines = one-vs-rest  \n",
    "\n",
    "<img src=\"images/1vs1.jpg\" style=\"height:300px\">"
   ]
  },
  {
   "cell_type": "markdown",
   "metadata": {},
   "source": [
    "## SVM\n",
    "\n",
    "Hinge loss  \n",
    "$L(y,z) = (1 -yz)_{+}$\n",
    "\n",
    "Desicion function  \n",
    "$a(x) = sign(<w,x>)$\n",
    "\n",
    "\n",
    "\n",
    "\n",
    "\n",
    "<img src=\"images/svm.png\" style=\"height:400px\">"
   ]
  },
  {
   "cell_type": "markdown",
   "metadata": {},
   "source": [
    "## Kernels\n",
    "\n",
    "Def: Reproducing Kernel Hilbert Space  \n",
    "\n",
    "$$f(x) = <w, \\phi(x)> $$\n",
    "\n",
    "Th: Mercer\n",
    "\n",
    "$$K(x,y) = <\\phi(x), \\phi(y)> $$\n",
    "\n",
    "Th: Representing  Theorem\n",
    "\n",
    "$$ f(x) = \\sum_i w_i, K(x, x_i) $$\n",
    "\n",
    "\n",
    "<img src=\"images/rkhs.png\" style=\"height:300px\">\n",
    "\n",
    "### RBF kernel\n",
    "\n",
    "$$ K(X,Y) = \\exp( - \\gamma || X - Y ||_2^2) $$\n",
    "\n",
    "<img src=\"images/rbf.png\" style=\"height:300px\">\n",
    "\n",
    "### Polynomial kernel\n",
    "\n",
    "$$ K(X,Y) = (\\gamma <X, Y> + \\epsilon)^d $$\n",
    "\n",
    "<img src=\"images/poly.png\" style=\"height:300px\">"
   ]
  },
  {
   "cell_type": "code",
   "execution_count": 1,
   "metadata": {},
   "outputs": [],
   "source": [
    "## String kernels\n",
    "from sklearn import neighbors\n",
    "import pandas as pd\n",
    "import numpy as np\n",
    "from sklearn.svm import SVC\n",
    "from sklearn.model_selection import train_test_split\n",
    "from sklearn import metrics\n",
    "\n",
    "SEED = 1\n",
    "np.random.seed(SEED)"
   ]
  },
  {
   "cell_type": "code",
   "execution_count": 18,
   "metadata": {},
   "outputs": [],
   "source": [
    "# toy dataset\n",
    "X= np.array([['AAAAAAA'],['AAATTAA'], ['TTTTTTT'],['ATTAAAA'],['TTTTAAT'],['TATTTAT']]) \n",
    "# class 0 if #A>#T, class 1 if #A<#T\n",
    "y= np.array([0,0,1,0,1,1])"
   ]
  },
  {
   "cell_type": "code",
   "execution_count": 19,
   "metadata": {},
   "outputs": [
    {
     "data": {
      "text/plain": [
       "array([[7., 5., 0., 5., 2., 2.],\n",
       "       [5., 7., 2., 3., 2., 4.],\n",
       "       [0., 2., 7., 2., 5., 5.],\n",
       "       [5., 3., 2., 7., 4., 2.],\n",
       "       [2., 2., 5., 4., 7., 5.],\n",
       "       [2., 4., 5., 2., 5., 7.]])"
      ]
     },
     "execution_count": 19,
     "metadata": {},
     "output_type": "execute_result"
    }
   ],
   "source": [
    "def equal_elements(s1,s2):\n",
    "    score = 0\n",
    "    for i in range(min(len(s1), len(s1))):\n",
    "        score += float(s1[i] == s2[i])\n",
    "    return score\n",
    "\n",
    "full_string_kernel = np.zeros((X.shape[0],X.shape[0]))\n",
    "for i in range(X.shape[0]):\n",
    "    for j in range(X.shape[0]):\n",
    "        full_string_kernel[i,j] = equal_elements(X[i,0],X[j,0])\n",
    "full_string_kernel  "
   ]
  },
  {
   "cell_type": "code",
   "execution_count": 20,
   "metadata": {},
   "outputs": [],
   "source": [
    "def compose_kernel(row_idxs, col_idxs):\n",
    "    row_idxs = np.asarray(row_idxs, dtype=np.int).ravel()\n",
    "    col_idxs = np.asarray(col_idxs, dtype=np.int).ravel()\n",
    "    return full_string_kernel[row_idxs, :][:, col_idxs]"
   ]
  },
  {
   "cell_type": "code",
   "execution_count": 21,
   "metadata": {},
   "outputs": [
    {
     "data": {
      "text/plain": [
       "(array([0, 4, 3, 5]), array([1, 2]))"
      ]
     },
     "execution_count": 21,
     "metadata": {},
     "output_type": "execute_result"
    }
   ],
   "source": [
    "indices = np.arange(X.shape[0], dtype=np.int)\n",
    "idx_train, idx_test = train_test_split(indices, stratify=y, test_size=2, random_state=SEED) \n",
    "idx_train, idx_test"
   ]
  },
  {
   "cell_type": "code",
   "execution_count": 22,
   "metadata": {},
   "outputs": [
    {
     "data": {
      "text/plain": [
       "(array([0, 1, 0, 1]), array([0, 1]))"
      ]
     },
     "execution_count": 22,
     "metadata": {},
     "output_type": "execute_result"
    }
   ],
   "source": [
    "y[idx_train], y[idx_test]"
   ]
  },
  {
   "cell_type": "code",
   "execution_count": 23,
   "metadata": {},
   "outputs": [
    {
     "data": {
      "text/plain": [
       "array([[7., 2., 5., 2.],\n",
       "       [2., 7., 4., 5.],\n",
       "       [5., 4., 7., 2.],\n",
       "       [2., 5., 2., 7.]])"
      ]
     },
     "execution_count": 23,
     "metadata": {},
     "output_type": "execute_result"
    }
   ],
   "source": [
    "compose_kernel(idx_train, idx_train)"
   ]
  },
  {
   "cell_type": "code",
   "execution_count": 24,
   "metadata": {},
   "outputs": [
    {
     "data": {
      "text/plain": [
       "array([[5., 0.],\n",
       "       [2., 5.],\n",
       "       [3., 2.],\n",
       "       [4., 5.]])"
      ]
     },
     "execution_count": 24,
     "metadata": {},
     "output_type": "execute_result"
    }
   ],
   "source": [
    "compose_kernel(idx_train, idx_test)"
   ]
  },
  {
   "cell_type": "code",
   "execution_count": 25,
   "metadata": {},
   "outputs": [
    {
     "data": {
      "text/plain": [
       "1.0"
      ]
     },
     "execution_count": 25,
     "metadata": {},
     "output_type": "execute_result"
    }
   ],
   "source": [
    "clf= SVC(kernel=compose_kernel)\n",
    "\n",
    "clf.fit(idx_train.reshape(-1,1), y[idx_train])\n",
    "y_pred = clf.predict(idx_test.reshape(-1,1))\n",
    "metrics.accuracy_score(y[idx_test], y_pred)"
   ]
  },
  {
   "cell_type": "code",
   "execution_count": null,
   "metadata": {},
   "outputs": [],
   "source": []
  }
 ],
 "metadata": {
  "kernelspec": {
   "display_name": "Python 3",
   "language": "python",
   "name": "python3"
  },
  "language_info": {
   "codemirror_mode": {
    "name": "ipython",
    "version": 3
   },
   "file_extension": ".py",
   "mimetype": "text/x-python",
   "name": "python",
   "nbconvert_exporter": "python",
   "pygments_lexer": "ipython3",
   "version": "3.5.6"
  },
  "widgets": {
   "state": {},
   "version": "1.1.2"
  }
 },
 "nbformat": 4,
 "nbformat_minor": 2
}
