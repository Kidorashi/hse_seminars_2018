{
 "cells": [
  {
   "cell_type": "markdown",
   "metadata": {},
   "source": [
    "# Linear Regression and Regularization in Linear models"
   ]
  },
  {
   "cell_type": "markdown",
   "metadata": {},
   "source": [
    "### Reading:\n",
    "\n",
    "1. GoodFellow. Deep Learning. p 245-252, 261-268\n",
    "2. Bishop. Pattern Recognition and Machine Learning p 140-146"
   ]
  },
  {
   "cell_type": "markdown",
   "metadata": {},
   "source": [
    "## Outline\n",
    "\n",
    "1. General Form, Polynomial Regression\n",
    "1. Analytic Solution\n",
    "1. SGD\n",
    "1. Pytorch and computational graphs\n",
    "1. L2 regularization as a prior on weights\n",
    "1. L2 regularization as stabilization of matrix inverse\n",
    "1. Equivance between L2 and early stopping\n",
    "1. L1 regularization and sparsity\n",
    "1. ElasticNet, L_p norms, structured sparsity"
   ]
  },
  {
   "cell_type": "markdown",
   "metadata": {},
   "source": [
    "Regularization\n",
    "<img src=\"images/reg.png\" style=\"height:300px\">"
   ]
  },
  {
   "cell_type": "markdown",
   "metadata": {},
   "source": [
    "Computational Graph\n",
    "<img src=\"images/graph.png\" style=\"height:300px\">"
   ]
  },
  {
   "cell_type": "code",
   "execution_count": 1,
   "metadata": {},
   "outputs": [],
   "source": [
    "import numpy as np\n",
    "import matplotlib.pyplot as plt\n",
    "\n",
    "%matplotlib inline\n",
    "\n",
    "import torch as tt\n",
    "from torch import nn\n",
    "from sklearn.datasets import make_regression\n",
    "from sklearn.preprocessing import scale"
   ]
  },
  {
   "cell_type": "code",
   "execution_count": 4,
   "metadata": {},
   "outputs": [
    {
     "data": {
      "text/plain": [
       "<matplotlib.collections.PathCollection at 0x7fbd43165588>"
      ]
     },
     "execution_count": 4,
     "metadata": {},
     "output_type": "execute_result"
    },
    {
     "data": {
      "image/png": "[encoded data removed]",
      "text/plain": [
       "<Figure size 432x288 with 1 Axes>"
      ]
     },
     "metadata": {
      "needs_background": "light"
     },
     "output_type": "display_data"
    }
   ],
   "source": [
    "# create dataset\n",
    "X, Y = make_regression(100, n_features=1, n_informative=1, noise=3, random_state=42)\n",
    "plt.scatter(X, Y)"
   ]
  },
  {
   "cell_type": "code",
   "execution_count": 27,
   "metadata": {},
   "outputs": [],
   "source": [
    "# convert numpy array to pytorch tensor.\n",
    "# dtype dose matter!\n",
    "\n",
    "X = tt.tensor(X, dtype=tt.float32)\n",
    "Y = tt.tensor(Y.reshape(-1,1), dtype=tt.float32)"
   ]
  },
  {
   "cell_type": "code",
   "execution_count": 32,
   "metadata": {},
   "outputs": [],
   "source": [
    "# all neural nets should be descendant of nn.Module \n",
    "\n",
    "class LinearRegressionModel(nn.Module):\n",
    "\n",
    "    def __init__(self, input_dim):\n",
    "\n",
    "        super(LinearRegressionModel, self).__init__() \n",
    "        \n",
    "        # weight initialization\n",
    "        w_init = np.random.randn(input_dim, 1)\n",
    "        b_init = np.random.randn(1)\n",
    "        \n",
    "        # trainable parameters\n",
    "        self.W = tt.tensor(w_init, dtype=tt.float32, requires_grad=True)\n",
    "        self.b = tt.tensor(b_init, dtype=tt.float32, requires_grad=True)\n",
    "\n",
    "    # forward pass\n",
    "    def forward(self, x):\n",
    "        # Here the forward pass is simply a linear function\n",
    "\n",
    "        out = tt.mm(X, self.W) + self.b\n",
    "        return out\n",
    "    \n",
    "    # list of trainable parameters\n",
    "    def parameters(self):\n",
    "        return [self.W, self.b]"
   ]
  },
  {
   "cell_type": "code",
   "execution_count": 33,
   "metadata": {},
   "outputs": [
    {
     "name": "stderr",
     "output_type": "stream",
     "text": [
      "/opt/anaconda3/lib/python3.5/site-packages/ipykernel_launcher.py:42: UserWarning: invalid index of a 0-dim tensor. This will be an error in PyTorch 0.5. Use tensor.item() to convert a 0-dim tensor to a Python number\n"
     ]
    },
    {
     "data": {
      "image/png": "[encoded data removed]",
      "text/plain": [
       "<Figure size 432x288 with 1 Axes>"
      ]
     },
     "metadata": {
      "needs_background": "light"
     },
     "output_type": "display_data"
    }
   ],
   "source": [
    "# feature dimension\n",
    "input_dim = X.shape[1]\n",
    "model = LinearRegressionModel(input_dim)\n",
    "\n",
    "# train routine\n",
    "def train(model, X, Y, learning_rate, epochs, alpha=1):\n",
    "    \"\"\"\n",
    "    X - feature matrix, tensor\n",
    "    Y - target values, tensor\n",
    "    learning_rate - step size for SGD\n",
    "    epochs - number of full passes over dataset\n",
    "    alphha - regularization parameter\n",
    "    \"\"\"\n",
    "    criterion = tt.nn.MSELoss()\n",
    "    optimizer = tt.optim.SGD(model.parameters(), lr = learning_rate)\n",
    "    \n",
    "    # training history\n",
    "    history = []\n",
    "    for epoch in range(epochs):\n",
    "\n",
    "        epoch +=1\n",
    "\n",
    "        # gradients should be cleared before  every iteration\n",
    "        optimizer.zero_grad()\n",
    "        \n",
    "        #forward to get predicted values\n",
    "        outputs = model.forward(X)\n",
    "        \n",
    "        # loss\n",
    "#         loss = criterion(outputs, Y)\n",
    "        \n",
    "        # L2 regularization\n",
    "        loss = criterion(outputs, Y)+ alpha/2 * tt.norm(model.W)**2\n",
    "        \n",
    "        # backward  propagation\n",
    "        loss.backward()# back props\n",
    "        \n",
    "        # step in the direction of the antigradient and update parameters\n",
    "        optimizer.step()\n",
    "        \n",
    "        # logging\n",
    "        history.append((epoch,loss.data[0].detach()))\n",
    "        \n",
    "    return history\n",
    "\n",
    "\n",
    "history = train(model, X, Y, 0.001, epochs=2000, alpha=10)\n",
    "xx = list(map(lambda x: x[0], history))\n",
    "yy = list(map(lambda x: x[1], history))\n",
    "plt.plot(xx, yy)\n",
    "plt.xlabel('epoch')\n",
    "plt.ylabel('loss')\n",
    "plt.grid()"
   ]
  },
  {
   "cell_type": "code",
   "execution_count": 34,
   "metadata": {},
   "outputs": [
    {
     "data": {
      "text/plain": [
       "[<matplotlib.lines.Line2D at 0x7fbd430e5d68>]"
      ]
     },
     "execution_count": 34,
     "metadata": {},
     "output_type": "execute_result"
    },
    {
     "data": {
      "image/png": "[encoded data removed]",
      "text/plain": [
       "<Figure size 432x288 with 1 Axes>"
      ]
     },
     "metadata": {
      "needs_background": "light"
     },
     "output_type": "display_data"
    }
   ],
   "source": [
    "# plot result\n",
    "\n",
    "ww = model.W[0,0].detach().numpy()\n",
    "bb = model.b[0].detach().numpy()\n",
    "ww, bb\n",
    "\n",
    "xx = X.numpy()\n",
    "yy = Y.numpy()\n",
    "plt.scatter(xx, yy, color='b')\n",
    "plt.plot(xx, ww*xx + bb, color='r')"
   ]
  }
 ],
 "metadata": {
  "kernelspec": {
   "display_name": "Python 3",
   "language": "python",
   "name": "python3"
  },
  "language_info": {
   "codemirror_mode": {
    "name": "ipython",
    "version": 3
   },
   "file_extension": ".py",
   "mimetype": "text/x-python",
   "name": "python",
   "nbconvert_exporter": "python",
   "pygments_lexer": "ipython3",
   "version": "3.5.6"
  },
  "widgets": {
   "state": {},
   "version": "1.1.2"
  }
 },
 "nbformat": 4,
 "nbformat_minor": 2
}
